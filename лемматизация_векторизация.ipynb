{
 "cells": [
  {
   "cell_type": "code",
   "execution_count": 3,
   "id": "add745f9",
   "metadata": {},
   "outputs": [],
   "source": [
    "import pandas as pd\n",
    "import nltk\n",
    "file_path = r\"narod_without_huebor.csv\"  \n",
    "chunk_size = 5\n",
    "#with open(file_path, 'r', encoding = \"utf8\") as file:\n",
    "#   while True:\n",
    "#        chunk = file.read(chunk_size)\n",
    "#        if not chunk:\n",
    "#            break\n",
    "#print(file)"
   ]
  },
  {
   "cell_type": "code",
   "execution_count": 144,
   "id": "1f40e529",
   "metadata": {},
   "outputs": [],
   "source": [
    "chunksize = 5\n",
    "TextFileReader = pd.read_csv(file_path, chunksize=chunksize)\n",
    "datf = pd.concat(TextFileReader, ignore_index=True)"
   ]
  },
  {
   "cell_type": "code",
   "execution_count": 145,
   "id": "1b343a3d",
   "metadata": {},
   "outputs": [
    {
     "data": {
      "text/html": [
       "<div>\n",
       "<style scoped>\n",
       "    .dataframe tbody tr th:only-of-type {\n",
       "        vertical-align: middle;\n",
       "    }\n",
       "\n",
       "    .dataframe tbody tr th {\n",
       "        vertical-align: top;\n",
       "    }\n",
       "\n",
       "    .dataframe thead th {\n",
       "        text-align: right;\n",
       "    }\n",
       "</style>\n",
       "<table border=\"1\" class=\"dataframe\">\n",
       "  <thead>\n",
       "    <tr style=\"text-align: right;\">\n",
       "      <th></th>\n",
       "      <th>Unnamed: 0</th>\n",
       "      <th>page_id</th>\n",
       "      <th>site_id</th>\n",
       "      <th>page_link</th>\n",
       "      <th>page_parent</th>\n",
       "      <th>page_title</th>\n",
       "      <th>page_text</th>\n",
       "      <th>topic</th>\n",
       "    </tr>\n",
       "  </thead>\n",
       "  <tbody>\n",
       "    <tr>\n",
       "      <th>0</th>\n",
       "      <td>0</td>\n",
       "      <td>3</td>\n",
       "      <td>3</td>\n",
       "      <td>http://dzhouniods.narod.ru/</td>\n",
       "      <td>3</td>\n",
       "      <td>Шахматы</td>\n",
       "      <td>Шахматы Шахматы РГСУ online ru Шахматы искусст...</td>\n",
       "      <td>Литература</td>\n",
       "    </tr>\n",
       "    <tr>\n",
       "      <th>1</th>\n",
       "      <td>1</td>\n",
       "      <td>2419</td>\n",
       "      <td>22</td>\n",
       "      <td>http://kotbruce.narod.ru/</td>\n",
       "      <td>2419</td>\n",
       "      <td>Британский лиловый короткошерстный кот Bruce G...</td>\n",
       "      <td>Британский лиловый короткошерстный кот Bruce G...</td>\n",
       "      <td>Питомцы</td>\n",
       "    </tr>\n",
       "    <tr>\n",
       "      <th>2</th>\n",
       "      <td>2</td>\n",
       "      <td>2434</td>\n",
       "      <td>25</td>\n",
       "      <td>http://sinii-mimrik.narod.ru/</td>\n",
       "      <td>2434</td>\n",
       "      <td>Синие мымрики</td>\n",
       "      <td>Синие мымрики Все о Синих Мымриках Происхожден...</td>\n",
       "      <td>Питомцы</td>\n",
       "    </tr>\n",
       "    <tr>\n",
       "      <th>3</th>\n",
       "      <td>3</td>\n",
       "      <td>2435</td>\n",
       "      <td>25</td>\n",
       "      <td>http://sinii-mimrik.narod.ru/2.html</td>\n",
       "      <td>2434</td>\n",
       "      <td>Размножение</td>\n",
       "      <td>Размножение Брачный период Синих мымриков На г...</td>\n",
       "      <td>Питомцы</td>\n",
       "    </tr>\n",
       "    <tr>\n",
       "      <th>4</th>\n",
       "      <td>4</td>\n",
       "      <td>2436</td>\n",
       "      <td>25</td>\n",
       "      <td>http://sinii-mimrik.narod.ru/3.html</td>\n",
       "      <td>2434</td>\n",
       "      <td>Повадки синих мымриков</td>\n",
       "      <td>Повадки синих мымриков Повадки Синих Мымриков ...</td>\n",
       "      <td>Питомцы</td>\n",
       "    </tr>\n",
       "  </tbody>\n",
       "</table>\n",
       "</div>"
      ],
      "text/plain": [
       "   Unnamed: 0 page_id site_id                            page_link  \\\n",
       "0           0       3       3          http://dzhouniods.narod.ru/   \n",
       "1           1    2419      22            http://kotbruce.narod.ru/   \n",
       "2           2    2434      25        http://sinii-mimrik.narod.ru/   \n",
       "3           3    2435      25  http://sinii-mimrik.narod.ru/2.html   \n",
       "4           4    2436      25  http://sinii-mimrik.narod.ru/3.html   \n",
       "\n",
       "  page_parent                                         page_title  \\\n",
       "0           3                                            Шахматы   \n",
       "1        2419  Британский лиловый короткошерстный кот Bruce G...   \n",
       "2        2434                                      Синие мымрики   \n",
       "3        2434                                        Размножение   \n",
       "4        2434                             Повадки синих мымриков   \n",
       "\n",
       "                                           page_text       topic  \n",
       "0  Шахматы Шахматы РГСУ online ru Шахматы искусст...  Литература  \n",
       "1  Британский лиловый короткошерстный кот Bruce G...     Питомцы  \n",
       "2  Синие мымрики Все о Синих Мымриках Происхожден...     Питомцы  \n",
       "3  Размножение Брачный период Синих мымриков На г...     Питомцы  \n",
       "4  Повадки синих мымриков Повадки Синих Мымриков ...     Питомцы  "
      ]
     },
     "execution_count": 145,
     "metadata": {},
     "output_type": "execute_result"
    }
   ],
   "source": [
    "datf.head()"
   ]
  },
  {
   "cell_type": "code",
   "execution_count": 146,
   "id": "92c86ca7",
   "metadata": {},
   "outputs": [],
   "source": [
    "import re\n",
    "def clean_n(text):\n",
    "    if isinstance(text, str):\n",
    "        return re.sub(r'[\\n|\\r]', ' ', text)\n",
    "    return text\n",
    "datf['page_text'] = datf['page_text'].apply(clean_n)\n",
    " "
   ]
  },
  {
   "cell_type": "code",
   "execution_count": 147,
   "id": "bc16bce0",
   "metadata": {},
   "outputs": [],
   "source": [
    " \n",
    "def clean_ssylk(text):\n",
    "    if isinstance(text, str):\n",
    "        return re.sub(r'[www|http].+[ru|com|org]', '', text)\n",
    "    return text\n",
    " "
   ]
  },
  {
   "cell_type": "code",
   "execution_count": 148,
   "id": "76b06c4c",
   "metadata": {},
   "outputs": [],
   "source": [
    " \n",
    "def clean_axan(text):\n",
    "    if isinstance(text, str):\n",
    "        return re.sub(r'&.{4};', '', text)\n",
    "    return text\n"
   ]
  },
  {
   "cell_type": "code",
   "execution_count": 149,
   "id": "8d7e7d5c",
   "metadata": {},
   "outputs": [],
   "source": [
    " \n",
    "def clean_ssylk2(text):\n",
    "    if isinstance(text, str):\n",
    "        return re.sub(r'=\\d{9}', '', text)\n",
    "    return text\n",
    " "
   ]
  },
  {
   "cell_type": "code",
   "execution_count": 150,
   "id": "b85cf6dd",
   "metadata": {},
   "outputs": [],
   "source": [
    " \n",
    "def clean_edit(text):\n",
    "    if isinstance(text, str):\n",
    "        return re.sub(r'\\[править\\]', '', text)\n",
    "    return text\n",
    " "
   ]
  },
  {
   "cell_type": "code",
   "execution_count": 151,
   "id": "d7b85d10",
   "metadata": {},
   "outputs": [],
   "source": [
    " \n",
    "def clean_softlist(text):\n",
    "    if isinstance(text, str):\n",
    "        return re.sub(r'[A-Z]{5}ist|List|SOFT|На главную|Сайт управляется системой.{5}', '', text)\n",
    "    return text\n",
    " "
   ]
  },
  {
   "cell_type": "code",
   "execution_count": 152,
   "id": "4464cbb4",
   "metadata": {},
   "outputs": [],
   "source": [
    "\n",
    "def clean_hash(text):\n",
    "    if isinstance(text, str):\n",
    "        return re.sub(r'\\.{3}', '', text)\n",
    "    return text\n",
    " "
   ]
  },
  {
   "cell_type": "code",
   "execution_count": 153,
   "id": "eab1860a",
   "metadata": {},
   "outputs": [],
   "source": [
    "def clean_grenz(text):\n",
    "    if isinstance(text, str):\n",
    "        return re.sub(r'([а-я]\\.)([А-Я])', r'\\1 \\2', text)\n",
    "    return text\n",
    " "
   ]
  },
  {
   "cell_type": "code",
   "execution_count": 154,
   "id": "3e22aa0d",
   "metadata": {},
   "outputs": [],
   "source": [
    "from nltk.corpus import stopwords #разделить текст по точкам, токенизация, убрать стоп-слова\n",
    "stops = set(stopwords.words('russian'))\n",
    "from nltk.tokenize import word_tokenize\n",
    "def no_stopwords(text):\n",
    "    tokens=word_tokenize(text)\n",
    "    filtered=[i for i in tokens if i.lower() not in stops]\n",
    "    return filtered\n",
    "datf['page_text']=datf['page_text'].apply(clean_softlist)\n",
    "datf['page_text']=datf['page_text'].apply(clean_ssylk)\n",
    "datf['page_text']=datf['page_text'].apply(clean_ssylk2)\n",
    "datf['page_text']=datf['page_text'].apply(clean_edit)\n",
    "datf['page_text']=datf['page_text'].apply(clean_hash)\n",
    "datf['page_text']=datf['page_text'].apply(clean_grenz)\n",
    "datf['page_text']=datf['page_text'].astype(str)\n",
    "datf['page_text']=datf['page_text'].apply(no_stopwords)"
   ]
  },
  {
   "cell_type": "code",
   "execution_count": 155,
   "id": "11c78bb9",
   "metadata": {},
   "outputs": [],
   "source": [
    "datf['page_text']=datf['page_text'].apply(lambda x: \" \".join(x))"
   ]
  },
  {
   "cell_type": "code",
   "execution_count": 156,
   "id": "9438c6a3",
   "metadata": {},
   "outputs": [
    {
     "data": {
      "text/plain": [
       "'Шахматы Шахматы РГСУ online ru Шахматы искусство Шахматы спорт Шахматы это работа Шахматы отдых Единственный способ поумнеть играть умным противником Шахматы настольная логическая игра сочетающая элементы искусства науки спорта Одна древнейших игр Земле сохранившихся нашего времени долгое время считалась игрой королей аристократов Играется двумя игроками определённым правилам Ежегодно мире проводятся тысячи различных соревнований шахматам Широко распространено мнение шахматы способствуют развитию умственных способностей памяти творческого мышления Христианская церковь против шахмат момента появления шахмат резко негативную позицию отношению заняла христианская церковь Шахматы приравнивались азартным играм пьянству Примечательно едины представители различных направлений христианства 1161 году католический кардинал Дамиани издал указ запрете игры шахматы среди духовенства своём письме папе Александру назвал шахматы измышлением дьявола игрой непристойной неприемлемой Основатель ордена тамплиеров Бернар 1128 году говорил необходимости бороться увлечением шахматами Французский епископ Аид Сюлли 1208 году запретил патерам прикасаться шахматам иметь дому Глава реформистского крыла протестантской церкви Ян Гус также противником шахмат влиянием церковного неприятия запрещали игру шахматы король польский Казимир французский Людовик Святой английский Эдуард Руси православная церковь также запретила игру шахматы угрозой отлучения церкви официально закреплено кормчей книге 1262 года подтверждено 1551 году Стоглавым собором Несмотря церковные запреты Европе России шахматы распространялись причём среди духовенства увлечение игрой меньше среди прочих сословий Европе 1393 году Регенбургский собор изъял шахматы числа запрещённых игр России сведений официальной отмене церковного запрета шахматы крайней мере века запрет фактически действовал Играл шахматы Иван Грозный Алексее Михайловиче шахматы распространены среди придворных умение играть обычным среди дипломатов Европе сохранились документы времени которых частности говорится русские посланники знакомы шахматами играют весьма сильно Увлекалась шахматами царевна Софья Петре ассамблеи проходили шахмат править Развитие шахматной теории векам шахматные правила основном устоялись благодаря чему началось развитие систематической шахматной теории 1561 году Руи Лопес издал первый полный учебник шахмат котором рассмотрены выделяемые этапы партии дебют миттельшпиль эндшпиль впервые описал характерный вид дебюта гамбит котором преимущество развитии достигается путём жертвы материала Большой вклад развитие шахматной теории веке внёс Филидор подверг серьёзному пересмотру взгляды предшественников прежде итальянских мастеров считавших наилучшим стилем игры является массированная атака короля противника всеми наличными средствами использовавших пешки вспомогательный материал Филидор развил называется позиционным стилем игры считал игрок должен бросаться безрассудные атаки планомерно строить сильную устойчивую позицию наносить точно рассчитанные удары слабостям'"
      ]
     },
     "execution_count": 156,
     "metadata": {},
     "output_type": "execute_result"
    }
   ],
   "source": [
    "datf['page_text'][0]"
   ]
  },
  {
   "cell_type": "markdown",
   "id": "2f36fdb0-b46d-4ac3-87bb-1e9e1042be3c",
   "metadata": {
    "jp-MarkdownHeadingCollapsed": true
   },
   "source": [
    "## Запускаем лемматизацию"
   ]
  },
  {
   "cell_type": "code",
   "execution_count": 157,
   "id": "c7add7d5-1391-466e-a1ec-cf19200621bd",
   "metadata": {},
   "outputs": [],
   "source": [
    "from tqdm import tqdm"
   ]
  },
  {
   "cell_type": "code",
   "execution_count": 158,
   "id": "4f10b870",
   "metadata": {},
   "outputs": [],
   "source": [
    "from pymystem3 import Mystem \n",
    "import os, json\n",
    "mystem = Mystem()\n",
    "\n",
    "def lemmy(text):\n",
    "    lemmed=mystem.lemmatize(text)\n",
    "    return lemmed\n"
   ]
  },
  {
   "cell_type": "code",
   "execution_count": 159,
   "id": "05a7d3e3-f039-4df7-9552-ea6562ba7ab6",
   "metadata": {},
   "outputs": [
    {
     "data": {
      "text/plain": [
       "(42069, 8)"
      ]
     },
     "execution_count": 159,
     "metadata": {},
     "output_type": "execute_result"
    }
   ],
   "source": [
    "datf.shape"
   ]
  },
  {
   "cell_type": "code",
   "execution_count": 160,
   "id": "0e977206-6579-4fd0-ac45-a25463365d53",
   "metadata": {},
   "outputs": [
    {
     "name": "stderr",
     "output_type": "stream",
     "text": [
      "100%|██████████████████████████████████████████████████████████████████████████████| 250/250 [2:23:05<00:00, 34.34s/it]\n"
     ]
    }
   ],
   "source": [
    "for i in tqdm(range(0, len(datf), 20)):\n",
    "#for i in tqdm(range(0, 5000, 20)):\n",
    "    if i < len(datf) - 20:\n",
    "        j = i+20\n",
    "    else:\n",
    "        j = len(datf)\n",
    "    #datf['page_text'][i:j] = datf['page_text'][i:j].apply(lemmy)\n",
    "    datf['page_text'][i:j].apply(\"\".join).apply(lemmy).to_csv(\"lemmatizedn1.csv\", mode='a', header=False, index=False, encoding=\"utf-8\")"
   ]
  },
  {
   "cell_type": "markdown",
   "id": "0c52b500-057e-4012-a994-1682bac95b0d",
   "metadata": {},
   "source": [
    "## Действия на случай если вы запускали лемматизацию несколько раз, и результаты в отдельных файлах, и вы хотите объединить"
   ]
  },
  {
   "cell_type": "code",
   "execution_count": 16,
   "id": "2ebb8ae8-8838-4f9b-8407-2135179856df",
   "metadata": {},
   "outputs": [],
   "source": [
    "\n",
    "df1 = pd.read_csv(\"lemmatizedn1.csv\")\n",
    "df2 = pd.read_csv(\"lemmatizedn4.csv\")\n",
    "df3 = pd.read_csv(\"lemmatizedn3.csv\")\n",
    "df4 = pd.read_csv(\"lemmatizedn2.csv\")\n",
    "#df_big = pd.concat([df1, df2], ignore_index=True)\n",
    "#df_big.to_csv(\"lemmatized.csv\")"
   ]
  },
  {
   "cell_type": "code",
   "execution_count": 17,
   "id": "b2a444d4-8755-4006-bcd3-50b79e750b36",
   "metadata": {},
   "outputs": [],
   "source": [
    "import re\n",
    "def fakelist_to_str(fakelist):\n",
    "    x =  re.sub(r\"[\\[\\]',]\", \"\", fakelist)\n",
    "    return re.sub(r\"   \", \" \", x)"
   ]
  },
  {
   "cell_type": "code",
   "execution_count": 78,
   "id": "907840ce-0c7d-4d3b-b7b5-c383dc0d191a",
   "metadata": {},
   "outputs": [],
   "source": [
    "def append_to_big(big_df, df):\n",
    "    dflist = []\n",
    "    for i in df.iterrows():\n",
    "        dflist.append(\"\".join((i[1])))\n",
    "    dfcleanlist = [fakelist_to_str(i) for i in dflist]\n",
    "    dfpart = pd.DataFrame(dfcleanlist)\n",
    "    return pd.concat([big_df, dfpart], axis=0, ignore_index=True)"
   ]
  },
  {
   "cell_type": "code",
   "execution_count": 80,
   "id": "fc7c8b62-b103-4ff6-b168-6b73867c989b",
   "metadata": {},
   "outputs": [],
   "source": [
    "big = pd.DataFrame()\n",
    "big = append_to_big(big, df1)\n",
    "big = append_to_big(big, df2)\n",
    "big = append_to_big(big, df3)\n",
    "big = append_to_big(big, df4)"
   ]
  },
  {
   "cell_type": "code",
   "execution_count": 94,
   "id": "be038e2d-e2c7-4eab-a61c-0ea17d8717d1",
   "metadata": {},
   "outputs": [],
   "source": [
    "big.to_csv(\"good_lemma_all.csv\")"
   ]
  },
  {
   "cell_type": "code",
   "execution_count": 82,
   "id": "42ea97e0-31fd-4c8b-9738-1911d64c1150",
   "metadata": {},
   "outputs": [],
   "source": [
    "#test_df = big.head(1000)\n",
    "#test_df.to_csv(\"small_lemma.csv\")\n",
    "df = pd.read_csv(\"good_lemma_all.csv\")"
   ]
  },
  {
   "cell_type": "code",
   "execution_count": 81,
   "id": "014e585d-60cf-4111-8776-36af147fcd64",
   "metadata": {},
   "outputs": [
    {
     "data": {
      "text/html": [
       "<div>\n",
       "<style scoped>\n",
       "    .dataframe tbody tr th:only-of-type {\n",
       "        vertical-align: middle;\n",
       "    }\n",
       "\n",
       "    .dataframe tbody tr th {\n",
       "        vertical-align: top;\n",
       "    }\n",
       "\n",
       "    .dataframe thead th {\n",
       "        text-align: right;\n",
       "    }\n",
       "</style>\n",
       "<table border=\"1\" class=\"dataframe\">\n",
       "  <thead>\n",
       "    <tr style=\"text-align: right;\">\n",
       "      <th></th>\n",
       "      <th>0</th>\n",
       "    </tr>\n",
       "  </thead>\n",
       "  <tbody>\n",
       "    <tr>\n",
       "      <th>0</th>\n",
       "      <td>британский лиловый короткошерстный кот Bruce G...</td>\n",
       "    </tr>\n",
       "    <tr>\n",
       "      <th>1</th>\n",
       "      <td>синий мымрик синий мымрик происхождение размно...</td>\n",
       "    </tr>\n",
       "    <tr>\n",
       "      <th>2</th>\n",
       "      <td>размножение брачный период синий мымрик повадк...</td>\n",
       "    </tr>\n",
       "    <tr>\n",
       "      <th>3</th>\n",
       "      <td>повадка синий мымрик повадка синий мымрик Micr...</td>\n",
       "    </tr>\n",
       "    <tr>\n",
       "      <th>4</th>\n",
       "      <td>вид синий мымрик повадка Microsoft MSDN одногл...</td>\n",
       "    </tr>\n",
       "  </tbody>\n",
       "</table>\n",
       "</div>"
      ],
      "text/plain": [
       "                                                   0\n",
       "0  британский лиловый короткошерстный кот Bruce G...\n",
       "1  синий мымрик синий мымрик происхождение размно...\n",
       "2  размножение брачный период синий мымрик повадк...\n",
       "3  повадка синий мымрик повадка синий мымрик Micr...\n",
       "4  вид синий мымрик повадка Microsoft MSDN одногл..."
      ]
     },
     "execution_count": 81,
     "metadata": {},
     "output_type": "execute_result"
    }
   ],
   "source": [
    "big.head()"
   ]
  },
  {
   "cell_type": "markdown",
   "id": "bd390d2e-3d7f-4c54-87c2-fe5ba42c1825",
   "metadata": {},
   "source": []
  },
  {
   "cell_type": "code",
   "execution_count": 40,
   "id": "421a8092-20db-455d-8c41-cf77a67024ee",
   "metadata": {},
   "outputs": [],
   "source": [
    "from sklearn.feature_extraction.text import TfidfVectorizer"
   ]
  },
  {
   "cell_type": "code",
   "execution_count": 91,
   "id": "e78cea01-3a3d-4cdd-b779-d218fab92ca3",
   "metadata": {},
   "outputs": [],
   "source": [
    "vectorizer = TfidfVectorizer(max_features=500)\n",
    "#vectors = vectorizer.fit_transform(test_df[0], max_features=500)\n",
    "vectors = vectorizer.fit_transform(big[0])"
   ]
  },
  {
   "cell_type": "code",
   "execution_count": 92,
   "id": "455776b4-66a0-4803-8cce-b31e026a3a54",
   "metadata": {},
   "outputs": [
    {
     "data": {
      "text/plain": [
       "(1000, 500)"
      ]
     },
     "execution_count": 92,
     "metadata": {},
     "output_type": "execute_result"
    }
   ],
   "source": [
    "vectors.shape"
   ]
  },
  {
   "cell_type": "code",
   "execution_count": 47,
   "id": "43cb93ac-d64f-4662-9961-fc16da3076c6",
   "metadata": {},
   "outputs": [],
   "source": [
    "import pickle"
   ]
  },
  {
   "cell_type": "code",
   "execution_count": 103,
   "id": "51c25e5d-0f7b-4e5d-93fd-1bf41ca0a16a",
   "metadata": {},
   "outputs": [],
   "source": [
    "with open(\"total_vectorized_500.pkl\", \"wb\") as f:\n",
    "    pickle.dump(vectors, f)"
   ]
  },
  {
   "cell_type": "code",
   "execution_count": 104,
   "id": "52d1d825-3e42-4698-a63a-1a7c01af5672",
   "metadata": {},
   "outputs": [],
   "source": [
    "vects_arr = vectorss.toarray()\n",
    "with open(\"array_small_vectorized_500.pkl\", \"wb\") as f:\n",
    "    pickle.dump(vects_arr, f)"
   ]
  }
 ],
 "metadata": {
  "kernelspec": {
   "display_name": "Python 3 (ipykernel)",
   "language": "python",
   "name": "python3"
  },
  "language_info": {
   "codemirror_mode": {
    "name": "ipython",
    "version": 3
   },
   "file_extension": ".py",
   "mimetype": "text/x-python",
   "name": "python",
   "nbconvert_exporter": "python",
   "pygments_lexer": "ipython3",
   "version": "3.12.1"
  }
 },
 "nbformat": 4,
 "nbformat_minor": 5
}
