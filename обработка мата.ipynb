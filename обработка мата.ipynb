{
 "cells": [
  {
   "cell_type": "code",
   "execution_count": 76,
   "metadata": {},
   "outputs": [],
   "source": [
    "import pandas as pd\n",
    "df = pd.read_csv(r'C:\\\\narod_without_html.csv', encoding='utf-8')"
   ]
  },
  {
   "cell_type": "code",
   "execution_count": 77,
   "metadata": {},
   "outputs": [
    {
     "data": {
      "text/plain": [
       "'!\"#$%&\\'()*+,-./:;<=>?@[\\\\]^_`{|}~«»—…“”\"|~'"
      ]
     },
     "execution_count": 77,
     "metadata": {},
     "output_type": "execute_result"
    }
   ],
   "source": [
    "from string import punctuation\n",
    "\n",
    "punctuation += '«»—…“”\"|~'\n",
    "punctuation"
   ]
  },
  {
   "cell_type": "markdown",
   "metadata": {},
   "source": [
    "очистка текста: удаление ссылок, адресов почт, добавление пробелов в \"слипшиеся\" слова"
   ]
  },
  {
   "cell_type": "code",
   "execution_count": 79,
   "metadata": {},
   "outputs": [],
   "source": [
    "import re\n",
    "def cleaned_text(text):\n",
    "    cleaned_from_n = re.sub('[\\n]+', ' ', text)\n",
    "    cleaned_from_x = re.sub('\\xa0', ' ', cleaned_from_n)\n",
    "    cleaned_from_pocht = re.sub('[a-zA-Z]+@[a-zA-Z]+|&#769;|[XVI]+', '', cleaned_from_x)\n",
    "    cleaned_from_web = re.sub('[a-zA-Z]+://[a-zA-Z\\.\\-\\//?=\\d&;]+[a-zA-Z\\.\\-\\/?=\\d&]*|://[a-zA-Z\\.\\-\\//?=\\d&;]+[a-zA-Z\\.\\-\\/?=\\d&]*|www[a-zA-Z.-/?=\\d]+|<[/a-zA-Z\\->\"\\.///:_/=\\d\\s]+/>|<[/a-zA-Z\\->\"\\.///:_/=\\d\\s]+>|<[a-zA-Z]+|[a-zA-Z]+=\"[a-zA-Z-\\d\\/#&;=]+|[_a-zA-Z\\d-]\"|/[\\d]+|[/>]|[\\d]{2}:[\\d]{2}:[\\d]{2}|_[a-zA-Z]+_[a-zA-Z]+_[a-zA-Z]+_[a-zA-Z]+_[a-zA-Z]+|_[a-zA-Z]+_[a-zA-Z]+_[a-zA-Z]+_[a-zA-Z]+|-\\d+-\\d+-\\d+', '', cleaned_from_pocht)\n",
    "    added_spaces = re.sub('([а-яА-ЯёЁ])([!?:;»\"\\.\\(\\),])([а-яА-ЯёЁ])', r'\\1\\2 \\3', cleaned_from_web)\n",
    "    added_spaces_1 = re.sub('([а-яА-ЯёЁ])([«“])([а-яА-ЯёЁ])', r'\\1 \\2\\3', added_spaces)\n",
    "    added_spaces_2 = re.sub('([а-яА-ЯёЁ])([—])([а-яА-ЯёЁ])', r'\\1 \\2\\3', added_spaces_1)\n",
    "    cleaned_from_spaces = re.sub('[\\s]{2,}', ' ', added_spaces_2).strip()\n",
    "\n",
    "    return cleaned_from_spaces"
   ]
  },
  {
   "cell_type": "markdown",
   "metadata": {},
   "source": [
    "заполнение нулей"
   ]
  },
  {
   "cell_type": "code",
   "execution_count": 80,
   "metadata": {},
   "outputs": [],
   "source": [
    "df['page_text'] = df['page_text'].fillna(\"Не указано\")"
   ]
  },
  {
   "cell_type": "markdown",
   "metadata": {},
   "source": [
    "применение функции очистки"
   ]
  },
  {
   "cell_type": "code",
   "execution_count": 81,
   "metadata": {},
   "outputs": [],
   "source": [
    "df['page_text'] = df['page_text'].apply(cleaned_text)"
   ]
  },
  {
   "cell_type": "markdown",
   "metadata": {},
   "source": [
    "функция появилась в результате ручного исследования отрицательных кейсов"
   ]
  },
  {
   "cell_type": "code",
   "execution_count": 82,
   "metadata": {},
   "outputs": [],
   "source": [
    "def dlya_mata(text):\n",
    "    without_1 = re.sub('[а-яА-ЯёЁ]+[(]|:[а-яА-ЯёЁ]+|[а-яА-ЯёЁ]+!|_[а-яА-ЯёЁ]+|[|][а-яА-ЯёЁ]+|[а-яА-ЯёЁ]+[|]|[,][а-яА-ЯёЁ]+»|[*]При|[А-Яа-я][\\'`][А-Яа-я]+|Назад<<<|Рассылки@|[а-яА-ЯёЁ]\\\\[а-яА-ЯёЁ]|[а-яА-ЯёЁ]\\[[а-яА-ЯёЁ]|[а-яА-ЯёЁ]<[а-яА-ЯёЁ]|[а-яА-ЯёЁ]\\)[а-яА-ЯёЁ]|[а-яА-ЯёЁ]\\+[а-яА-ЯёЁ]|[а-яА-ЯёЁ]\\][а-яА-ЯёЁ]|[а-яА-ЯёЁ]+@[а-яА-ЯёЁ]+|[а-яА-ЯёЁ]+\\$[а-яА-ЯёЁ]+|[а-яА-ЯёЁ]+\\&[а-яА-ЯёЁ]+|[а-яА-ЯёЁ]+\\^[а-яА-ЯёЁ]+|[а-яА-ЯёЁ]+\\*[А-ЯЁ]', ' ', text)\n",
    "\n",
    "    return without_1\n"
   ]
  },
  {
   "cell_type": "code",
   "execution_count": 83,
   "metadata": {},
   "outputs": [],
   "source": [
    "df['page_text'] = df['page_text'].apply(dlya_mata)"
   ]
  },
  {
   "cell_type": "code",
   "execution_count": 86,
   "metadata": {},
   "outputs": [],
   "source": [
    "def fix_text(text):\n",
    "    separators = ['):%', '^;', '$$', '@«', 'дело%По', '»@', '^!|[', '^^', '?*', ':*', '*[*', '\\\\']\n",
    "    \n",
    "    for sep in separators:\n",
    "        text = text.replace(sep, ' ') \n",
    "    \n",
    "    return ' '.join(text.split()) \n",
    "\n",
    "df['page_text'] = df['page_text'].apply(fix_text)"
   ]
  },
  {
   "cell_type": "code",
   "execution_count": 87,
   "metadata": {},
   "outputs": [
    {
     "name": "stdout",
     "output_type": "stream",
     "text": [
      "['чм###иками']\n",
      "['П##дец']\n",
      "[' пиз****м ']\n",
      "['нах#й']\n",
      "['БЛ#$Ь']\n",
      "[' ж*па ', ' ж*пу']\n",
      "[' г*вном', ' г*вно', ' Г*вно']\n",
      "[' на*** ']\n",
      "['с^%$ый', 'Ох@#нный']\n",
      "[' е**ть ']\n",
      "[' х*й ', ' х*й ', ' х* ', 'пи%добол', 'пи#де', 'п%$#р']\n",
      "['о@#&%л']\n",
      "['Оху%вший']\n",
      "[' е**ть ', 'на х** ', ' пи**ду', ' бл***ми ', ' б**! ', ' б**! ', ' б**! ', ' е***ая', 'на х** ']\n",
      "['Б%яяяяя']\n",
      "[' п*']\n",
      "['тр**ть']\n",
      "['тр**ть', 'обоср*ться']\n",
      "[' п*** ']\n",
      "['на х* ']\n",
      "['подъё*ывать']\n",
      "[' еб*т']\n",
      "['др#чат']\n",
      "[' по**й']\n",
      "[' нас***и ']\n",
      "['подъё*ывать']\n",
      "[' ох** ']\n",
      "[' Бл**ь ']\n",
      "[' Ни***я ']\n",
      "['З**бало']\n",
      "['за#бался']\n",
      "['очк#а']\n",
      "[' х*ю ']\n",
      "[' на*** ']\n",
      "['обоср**ься']\n",
      "[' е*ать ']\n",
      "['ж#пы']\n",
      "[' пи***ас', ' пи*** !!!', ' пи*** !!!', ' пи***сы ']\n",
      "[' пси***т ']\n"
     ]
    }
   ],
   "source": [
    "from string import punctuation\n",
    "punctuation += '«»…“”—'\n",
    "results = []\n",
    "for idx, i in enumerate(df['page_text']):\n",
    "    if len(i) == 0:\n",
    "        continue\n",
    "    matches = re.sub('[ПНЖЕ][*]{1,3}', '', i)\n",
    "    matchess = re.findall(\n",
    "            r'[А-Яа-яёЁ]{1,3}[#$%&@^]{1,6}[А-Яа-яёЁ]+|[\\/>\\\\\\_|]+[А-Яа-яёЁ]+|[А-Яа-яёЁ]+[\\/>\\\\|]+|\\s[Жж][*]{1,4}[а-яА-ЯёЁ]{1,4}\\s*|\\s[о][х]{0,3}[*]{1,4}[а-яА-ЯёЁ]{0,6}\\s|\\s[Нн][иахс]{0,3}[*]{1,4}[а-яА-ЯёЁ]{0,4}\\s|\\s[гГ][*][а-яА-ЯёЁ]{1,4}|\\s[Бб][л]{0,3}[*!]{1,4}[а-яА-ЯёЁ]{0,4}\\s|\\s[Пп][иозс]{0,4}[*]{1,4}[думастый]{0,4}\\s*[!]*|\\s[Ее][б]*[*]{1,4}[а-яА-ЯёЁ]{0,4}\\s*|[на]*\\s[Хх][*]{1,4}[а-яА-ЯёЁ]{0,4}\\s|тр[*]{1,2}ть|обоср[*]{1,2}т*ься|подъё[*]ывать|З[*]{2}бало|славяноп*рдами', matches) \n",
    "        \n",
    "    if not matchess:  \n",
    "        continue\n",
    "    results.append({'index': idx, 'matches': matchess})    \n",
    "    print(matchess)"
   ]
  },
  {
   "cell_type": "code",
   "execution_count": 104,
   "metadata": {},
   "outputs": [],
   "source": [
    "hhh = re.findall(r'[а-яА-ЯёЁ]+\\%', df['page_text'][26064])\n",
    "hh = re.findall(r'х\\%\\$', df['page_text'][15660])\n",
    "ps = re.findall(r'на@#', df['page_text'][11724])\n",
    "lis = [15635, 27465, 15660, 15674, 27451, 24743]\n",
    "aa_ab = []\n",
    "for i in lis:\n",
    "    aa_ab += re.findall(r'[а-яА-ЯёЁ]+@[а-яА-ЯёЁ]+', df['page_text'][i])\n",
    "resh = re.findall(r'#[а-яА-ЯёЁ]+', df['page_text'][19033])\n",
    "dd = re.findall(r'.{3}[а-яА-ЯёЁ]+\\$.{5}', df['page_text'][15635])\n",
    "bb = re.findall(r'х\\^\\%|х\\%\\$', df['page_text'][15660])\n",
    "ff = re.findall(r'[а-яА-ЯёЁ]+\\$.{2}', df['page_text'][15660])"
   ]
  },
  {
   "cell_type": "code",
   "execution_count": 203,
   "metadata": {},
   "outputs": [
    {
     "data": {
      "text/plain": [
       "['#опа', 'ох@ел', 'на@й', 'х@м', 'х@ем', 'х@ем', 'о@уел', 'ж@пу', 'МуД@К']"
      ]
     },
     "execution_count": 203,
     "metadata": {},
     "output_type": "execute_result"
    }
   ],
   "source": [
    "aa_ab = ['#опа', 'ох@ел', 'на@й', 'х@м', 'х@ем', 'х@ем', 'о@уел', 'ж@пу', 'МуД@К']"
   ]
  },
  {
   "cell_type": "code",
   "execution_count": 216,
   "metadata": {},
   "outputs": [
    {
     "data": {
      "text/plain": [
       "['х$&',\n",
       " '#опа',\n",
       " 'ох@ел',\n",
       " 'на@й',\n",
       " 'х@м',\n",
       " 'х@ем',\n",
       " 'х@ем',\n",
       " 'о@уел',\n",
       " 'ж@пу',\n",
       " 'МуД@К',\n",
       " 'на@#',\n",
       " 'Ни ху$ себе',\n",
       " 'х%$',\n",
       " 'бл%',\n",
       " ' **ля',\n",
       " ' **пу',\n",
       " ' ****ься',\n",
       " 'х^%',\n",
       " 'х%$']"
      ]
     },
     "execution_count": 216,
     "metadata": {},
     "output_type": "execute_result"
    }
   ],
   "source": [
    "chu = re.findall(r'[а-яА-ЯёЁ]+\\$.{1}', df['page_text'][32961])\n",
    "matchesss = re.findall('\\s[*]+[А-Яа-яёЁ]+', df['page_text'][36496])\n",
    "matchesss += re.findall('\\s[*]+[А-Яа-яёЁ]+', df['page_text'][25255])\n",
    "matchesss\n",
    "a = chu + aa_ab + ff + ps + dd + hh + hhh + matchesss + bb\n",
    "a"
   ]
  },
  {
   "cell_type": "code",
   "execution_count": 94,
   "metadata": {},
   "outputs": [],
   "source": [
    "from collections import defaultdict"
   ]
  },
  {
   "cell_type": "code",
   "execution_count": 97,
   "metadata": {},
   "outputs": [],
   "source": [
    "censored_words = {\n",
    "    'чм###иками': 'чмошники',\n",
    "    'П##дец': 'пиздец',\n",
    "    'пиз****м': 'пиздец',\n",
    "    'нах#й': 'нахуй',\n",
    "    'БЛ#$Ь': 'бля(ть)',\n",
    "    'Б***': 'бля(ть)',\n",
    "    'ж*па': 'жопа',\n",
    "    'ж*пу': 'жопа',\n",
    "    'г*вном': 'говно',\n",
    "    'г*вно': 'говно',\n",
    "    'Г*вно': 'говно',\n",
    "    'на***': 'нахуй',\n",
    "    'с^%$ый': 'срать',\n",
    "    'Ох@#нный': 'охуеть',\n",
    "    'е**ть': 'ебать',\n",
    "    'х*й': 'хуй',\n",
    "    'х*': 'хуй',\n",
    "    'пи%добол': 'пиздабол',\n",
    "    'пи#де': 'пизда',\n",
    "    'п%$#р': 'пидор',\n",
    "    'о@#&%л': 'охуеть',\n",
    "    'Оху%вший': 'охуеть',\n",
    "    'пи**ду': 'пизда',\n",
    "    'бл***ми': 'блядь',\n",
    "    'б**!': 'бля(ть)',\n",
    "    'е***ая': 'ебать',\n",
    "    'Б%яяяяя': 'бля(ть)',\n",
    "    'п*': 'пизда',\n",
    "    'тр**ть': 'трахать',\n",
    "    'обоср*ться': 'срать',\n",
    "    'п***': 'пизда',\n",
    "    'на х*': 'нахуй',\n",
    "    'подъё*ывать': 'подъёбывать',\n",
    "    'еб*т': 'ебать',\n",
    "    'др#чат': 'дрочить',\n",
    "    'по**й': 'похуй',\n",
    "    'нас***и': 'срать',\n",
    "    'ох**': 'охуеть',\n",
    "    'Бл**ь': 'бля(ть)',\n",
    "    'Ни***я': 'нихуя',\n",
    "    'З**бало': 'заебать',\n",
    "    'за#бался': 'заебать',\n",
    "    'очк#а': 'очко',\n",
    "    'х*ю': 'хуй',\n",
    "    'обоср**ься': 'срать',\n",
    "    'о****енение': 'охуеть',\n",
    "    'е*ать': 'ебать',\n",
    "    'ж#пы': 'жопа',\n",
    "    'пи***ас': 'пидор',\n",
    "    'пи*** !!!': 'пидор',\n",
    "    'пи***сы': 'пидор',\n",
    "    'пси***т': 'психопат',\n",
    "    'х$&': 'хуй',\n",
    "    '#опа': 'жопа',\n",
    "    'ох@ел': 'охуеть',\n",
    "    'на@й': 'нахуй',\n",
    "    'х@м': 'хуй',\n",
    "    'х@ем': 'хуй',\n",
    "    'о@уел': 'охуеть',\n",
    "    'ж@пу': 'жопа',\n",
    "    'МуД@К': 'мудак',\n",
    "    'на@#': 'нахуй',\n",
    "    'Ни ху$ себе': 'хуй',\n",
    "    'х%$': 'хуй',\n",
    "    'бл%': 'бля(ть)',\n",
    "    '**ля': 'бля(ть)',\n",
    "    '**пу': 'жопа',\n",
    "    '****ься': 'ебать',\n",
    "    'х^%': 'хуй',\n",
    "    'х%$': 'хуй'\n",
    "}\n",
    "with open('ostorozhno_mat.txt', 'w') as f:\n",
    "    f.write(str(censored_words))\n"
   ]
  },
  {
   "cell_type": "code",
   "execution_count": 106,
   "metadata": {},
   "outputs": [],
   "source": [
    "from collections import defaultdict"
   ]
  },
  {
   "cell_type": "code",
   "execution_count": 109,
   "metadata": {},
   "outputs": [],
   "source": [
    "slovar_mata = defaultdict(list)\n",
    "\n",
    "for cenz, mat in censored_words.items():\n",
    "    normalized_mat = mat.lower()  \n",
    "    slovar_mata[normalized_mat].append(cenz)\n",
    "\n",
    "sorted_mat = sorted(slovar_mata.items(), key=lambda x: len(x[1]))\n",
    "\n",
    "table = []\n",
    "for nf, variants in sorted_mat:\n",
    "    table.append({\n",
    "        'Начальная форма': nf,\n",
    "        'Варианты цензуры': ', '.join(variants)\n",
    "    })\n",
    "\n",
    "df = pd.DataFrame(table)"
   ]
  },
  {
   "cell_type": "code",
   "execution_count": 65,
   "metadata": {},
   "outputs": [
    {
     "data": {
      "text/html": [
       "<div>\n",
       "<style scoped>\n",
       "    .dataframe tbody tr th:only-of-type {\n",
       "        vertical-align: middle;\n",
       "    }\n",
       "\n",
       "    .dataframe tbody tr th {\n",
       "        vertical-align: top;\n",
       "    }\n",
       "\n",
       "    .dataframe thead th {\n",
       "        text-align: right;\n",
       "    }\n",
       "</style>\n",
       "<table border=\"1\" class=\"dataframe\">\n",
       "  <thead>\n",
       "    <tr style=\"text-align: right;\">\n",
       "      <th></th>\n",
       "      <th>Начальная форма</th>\n",
       "      <th>Варианты цензуры</th>\n",
       "    </tr>\n",
       "  </thead>\n",
       "  <tbody>\n",
       "    <tr>\n",
       "      <th>0</th>\n",
       "      <td>хуй</td>\n",
       "      <td>х*й, х*, х*ю, х$&amp;, х@м, х@ем, Ни ху$ себе, х%$, х^%</td>\n",
       "    </tr>\n",
       "    <tr>\n",
       "      <th>1</th>\n",
       "      <td>бля(ть)</td>\n",
       "      <td>БЛ#$Ь, Б***, б**!, Б%яяяяя, Бл**ь, бл%, **ля</td>\n",
       "    </tr>\n",
       "    <tr>\n",
       "      <th>2</th>\n",
       "      <td>охуеть</td>\n",
       "      <td>Ох@#нный, о@#&amp;%л, Оху%вший, ох**, о****енение, ох@ел, о@уел</td>\n",
       "    </tr>\n",
       "    <tr>\n",
       "      <th>3</th>\n",
       "      <td>жопа</td>\n",
       "      <td>ж*па, ж*пу, ж#пы, #опа, ж@пу, **пу</td>\n",
       "    </tr>\n",
       "    <tr>\n",
       "      <th>4</th>\n",
       "      <td>нахуй</td>\n",
       "      <td>нах#й, на***, на х*, на@й, на@#</td>\n",
       "    </tr>\n",
       "    <tr>\n",
       "      <th>5</th>\n",
       "      <td>ебать</td>\n",
       "      <td>е**ть, е***ая, еб*т, е*ать, ****ься</td>\n",
       "    </tr>\n",
       "    <tr>\n",
       "      <th>6</th>\n",
       "      <td>срать</td>\n",
       "      <td>с^%$ый, обоср*ться, нас***и, обоср**ься</td>\n",
       "    </tr>\n",
       "    <tr>\n",
       "      <th>7</th>\n",
       "      <td>пизда</td>\n",
       "      <td>пи#де, пи**ду, п*, п***</td>\n",
       "    </tr>\n",
       "    <tr>\n",
       "      <th>8</th>\n",
       "      <td>пидор</td>\n",
       "      <td>п%$#р, пи***ас, пи*** !!!, пи***сы</td>\n",
       "    </tr>\n",
       "    <tr>\n",
       "      <th>9</th>\n",
       "      <td>говно</td>\n",
       "      <td>г*вном, г*вно, Г*вно</td>\n",
       "    </tr>\n",
       "    <tr>\n",
       "      <th>10</th>\n",
       "      <td>пиздец</td>\n",
       "      <td>П##дец, пиз****м</td>\n",
       "    </tr>\n",
       "    <tr>\n",
       "      <th>11</th>\n",
       "      <td>заебать</td>\n",
       "      <td>З**бало, за#бался</td>\n",
       "    </tr>\n",
       "    <tr>\n",
       "      <th>12</th>\n",
       "      <td>чмошники</td>\n",
       "      <td>чм###иками</td>\n",
       "    </tr>\n",
       "    <tr>\n",
       "      <th>13</th>\n",
       "      <td>пиздабол</td>\n",
       "      <td>пи%добол</td>\n",
       "    </tr>\n",
       "    <tr>\n",
       "      <th>14</th>\n",
       "      <td>блядь</td>\n",
       "      <td>бл***ми</td>\n",
       "    </tr>\n",
       "    <tr>\n",
       "      <th>15</th>\n",
       "      <td>трахать</td>\n",
       "      <td>тр**ть</td>\n",
       "    </tr>\n",
       "    <tr>\n",
       "      <th>16</th>\n",
       "      <td>подъёбывать</td>\n",
       "      <td>подъё*ывать</td>\n",
       "    </tr>\n",
       "    <tr>\n",
       "      <th>17</th>\n",
       "      <td>дрочить</td>\n",
       "      <td>др#чат</td>\n",
       "    </tr>\n",
       "    <tr>\n",
       "      <th>18</th>\n",
       "      <td>похуй</td>\n",
       "      <td>по**й</td>\n",
       "    </tr>\n",
       "    <tr>\n",
       "      <th>19</th>\n",
       "      <td>нихуя</td>\n",
       "      <td>Ни***я</td>\n",
       "    </tr>\n",
       "    <tr>\n",
       "      <th>20</th>\n",
       "      <td>очко</td>\n",
       "      <td>очк#а</td>\n",
       "    </tr>\n",
       "    <tr>\n",
       "      <th>21</th>\n",
       "      <td>психопат</td>\n",
       "      <td>пси***т</td>\n",
       "    </tr>\n",
       "    <tr>\n",
       "      <th>22</th>\n",
       "      <td>мудак</td>\n",
       "      <td>МуД@К</td>\n",
       "    </tr>\n",
       "  </tbody>\n",
       "</table>\n",
       "</div>"
      ],
      "text/plain": [
       "   Начальная форма                                             Варианты цензуры\n",
       "0              хуй          х*й, х*, х*ю, х$&, х@м, х@ем, Ни ху$ себе, х%$, х^%\n",
       "1          бля(ть)                 БЛ#$Ь, Б***, б**!, Б%яяяяя, Бл**ь, бл%, **ля\n",
       "2           охуеть  Ох@#нный, о@#&%л, Оху%вший, ох**, о****енение, ох@ел, о@уел\n",
       "3             жопа                           ж*па, ж*пу, ж#пы, #опа, ж@пу, **пу\n",
       "4            нахуй                              нах#й, на***, на х*, на@й, на@#\n",
       "5            ебать                          е**ть, е***ая, еб*т, е*ать, ****ься\n",
       "6            срать                      с^%$ый, обоср*ться, нас***и, обоср**ься\n",
       "7            пизда                                      пи#де, пи**ду, п*, п***\n",
       "8            пидор                           п%$#р, пи***ас, пи*** !!!, пи***сы\n",
       "9            говно                                         г*вном, г*вно, Г*вно\n",
       "10          пиздец                                             П##дец, пиз****м\n",
       "11         заебать                                            З**бало, за#бался\n",
       "12        чмошники                                                   чм###иками\n",
       "13        пиздабол                                                     пи%добол\n",
       "14           блядь                                                      бл***ми\n",
       "15         трахать                                                       тр**ть\n",
       "16     подъёбывать                                                  подъё*ывать\n",
       "17         дрочить                                                       др#чат\n",
       "18           похуй                                                        по**й\n",
       "19           нихуя                                                       Ни***я\n",
       "20            очко                                                        очк#а\n",
       "21        психопат                                                      пси***т\n",
       "22           мудак                                                        МуД@К"
      ]
     },
     "execution_count": 65,
     "metadata": {},
     "output_type": "execute_result"
    }
   ],
   "source": [
    "df"
   ]
  }
 ],
 "metadata": {
  "kernelspec": {
   "display_name": "Python 3",
   "language": "python",
   "name": "python3"
  },
  "language_info": {
   "codemirror_mode": {
    "name": "ipython",
    "version": 3
   },
   "file_extension": ".py",
   "mimetype": "text/x-python",
   "name": "python",
   "nbconvert_exporter": "python",
   "pygments_lexer": "ipython3",
   "version": "3.11.5"
  }
 },
 "nbformat": 4,
 "nbformat_minor": 2
}
